{
 "cells": [
  {
   "cell_type": "markdown",
   "id": "86419319-8ea2-432b-81d6-5db876021cad",
   "metadata": {},
   "source": [
    "### Import statements"
   ]
  },
  {
   "cell_type": "code",
   "execution_count": 1,
   "id": "940c2d07-174d-42eb-b8f8-94179068042f",
   "metadata": {
    "execution": {
     "iopub.execute_input": "2024-01-16T19:27:57.756170Z",
     "iopub.status.busy": "2024-01-16T19:27:57.755975Z",
     "iopub.status.idle": "2024-01-16T19:27:58.080619Z",
     "shell.execute_reply": "2024-01-16T19:27:58.080281Z",
     "shell.execute_reply.started": "2024-01-16T19:27:57.756149Z"
    },
    "tags": []
   },
   "outputs": [],
   "source": [
    "import cv2\n",
    "import urllib\n",
    "\n",
    "import numpy as np\n",
    "from matplotlib import pyplot as plt\n",
    "from IPython.display import display, clear_output\n",
    "from google.colab.patches import cv2_imshow"
   ]
  },
  {
   "cell_type": "markdown",
   "id": "13995647-aa60-47bc-b374-ede44d63a6ea",
   "metadata": {},
   "source": [
    "## Quadtree Object"
   ]
  },
  {
   "cell_type": "code",
   "execution_count": 2,
   "id": "0ce07923-d983-4e46-84a6-67ddaa911922",
   "metadata": {
    "execution": {
     "iopub.execute_input": "2024-01-16T19:27:58.082006Z",
     "iopub.status.busy": "2024-01-16T19:27:58.081836Z",
     "iopub.status.idle": "2024-01-16T19:27:58.093461Z",
     "shell.execute_reply": "2024-01-16T19:27:58.092314Z",
     "shell.execute_reply.started": "2024-01-16T19:27:58.081996Z"
    },
    "tags": []
   },
   "outputs": [],
   "source": [
    "class Quad:\n",
    "    def __init__(self, image, render, t, b, l, r):\n",
    "        # Reference/target image\n",
    "        self.image = image\n",
    "        # Image to edit on\n",
    "        self.render = render\n",
    "\n",
    "        self.t, self.b, self.l, self.r = t, b, l, r\n",
    "        self.children = []\n",
    "        \n",
    "        self.avg_color = self.image[t:b,l:r].mean(axis=0).mean(axis=0)\n",
    "        \n",
    "        # Calculate current error in rendering and gains that could be made with splitting\n",
    "        self.model_error = self.calculate_error(self.avg_color, self.t, self.b, self.l, self.r)\n",
    "        self.delta_error = self.calculate_delta_error()\n",
    "        \n",
    "        # Draws rectangle into self.render\n",
    "        self.render = cv2.rectangle(self.render, (self.l, self.t), (self.r-1, self.b-1), (self.avg_color[0], self.avg_color[1], self.avg_color[2]), -1)\n",
    "        # This line adds the box borders\n",
    "        self.render = cv2.rectangle(self.render, (self.l, self.t), (self.r-1, self.b-1), (0, 0, 0), 1)\n",
    "\n",
    "    \n",
    "    def calculate_error(self, avg_color, t, b, l, r):\n",
    "        error = 0\n",
    "        \n",
    "        # If rectangle is too small, return 0 so no benefit in splitting\n",
    "        if (b-t <= 2 or r-l <= 2):\n",
    "            return 0\n",
    "\n",
    "        for row in range(t, b):\n",
    "            for col in range(l, r):\n",
    "                blue_error = avg_color[0] - self.image[row, col][0]\n",
    "                green_error = avg_color[1] - self.image[row, col][1]\n",
    "                red_error = avg_color[2] - self.image[row, col][2]\n",
    "#-----------------------------------------------------------------------------------------------------------------\n",
    "                # Square each of the terms to get better distance calculation / value to optimize\n",
    "                error += (0.1140*blue_error + 0.5870*green_error + 0.2989*red_error)\n",
    "#-----------------------------------------------------------------------------------------------------------------\n",
    "        return error\n",
    "    \n",
    "    def calculate_delta_error(self):\n",
    "        new_error = 0\n",
    "        \n",
    "        # row and col index to split the Quad\n",
    "        mh = int(self.t + (self.b - self.t)/2)\n",
    "        mv = int(self.l + (self.r - self.l)/2)\n",
    "        \n",
    "        new_error += self.calculate_error(self.image[self.t:mh, self.l:mv].mean(axis=0).mean(axis=0), self.t, mh, self.l, mv)\n",
    "        new_error += self.calculate_error(self.image[self.t:mh, mv:self.r].mean(axis=0).mean(axis=0), self.t, mh, mv, self.r)\n",
    "        new_error += self.calculate_error(self.image[mh:self.b, mv:self.r].mean(axis=0).mean(axis=0), mh, self.b, mv, self.r)\n",
    "        new_error += self.calculate_error(self.image[mh:self.b, self.l:mv].mean(axis=0).mean(axis=0), mh, self.b, self.l, mv)\n",
    "        \n",
    "        return new_error - self.model_error\n",
    "    \n",
    "    def split(self):\n",
    "        if len(self.children) == 0: # No children\n",
    "            mh = int(self.t + (self.b - self.t)/2)\n",
    "            mv = int(self.l + (self.r - self.l)/2)\n",
    "            \n",
    "            q1 = Quad(self.image, self.render, self.t, mh, self.l, mv)\n",
    "            q2 = Quad(self.image, self.render, self.t, mh, mv, self.r)\n",
    "            q3 = Quad(self.image, self.render, mh, self.b, mv, self.r)\n",
    "            q4 = Quad(self.image, self.render, mh, self.b, self.l, mv)\n",
    "            \n",
    "#-----------------------------------------------------------------------------------------------------------------\n",
    "            # Direct parent Quad to children quads\n",
    "            self.children = []\n",
    "#-----------------------------------------------------------------------------------------------------------------\n",
    "            self.model_error = q1.model_error + q2.model_error + q3.model_error + q4.model_error\n",
    "            \n",
    "        else: # Has children\n",
    "            # Find best Quad to split\n",
    "            greatest_improvement = self.children[0]\n",
    "            for child in self.children[1:]:\n",
    "                if greatest_improvement.delta_error > child.delta_error:\n",
    "                    greatest_improvement = child\n",
    "\n",
    "            if greatest_improvement.delta_error < 0:\n",
    "                self.model_error += greatest_improvement.delta_error\n",
    "                greatest_improvement.split()\n",
    "        \n",
    "        # Update delta_error with delta_error of new children.\n",
    "        self.delta_error = min([child.delta_error for child in self.children])"
   ]
  },
  {
   "cell_type": "code",
   "execution_count": 3,
   "id": "8f5af47f-b366-4949-9453-217f8645abcf",
   "metadata": {
    "execution": {
     "iopub.execute_input": "2024-01-16T19:27:58.094760Z",
     "iopub.status.busy": "2024-01-16T19:27:58.094652Z",
     "iopub.status.idle": "2024-01-16T19:27:58.838814Z",
     "shell.execute_reply": "2024-01-16T19:27:58.838065Z",
     "shell.execute_reply.started": "2024-01-16T19:27:58.094750Z"
    },
    "tags": []
   },
   "outputs": [],
   "source": [
    "path = urllib.request.urlopen(r'https://github.com/BaroqueObama/hhs-ws-quadtrees/blob/main/fr.jpg')"
   ]
  },
  {
   "cell_type": "code",
   "execution_count": 4,
   "id": "491aadc4-d7bf-4404-8745-1c407e6f9bf8",
   "metadata": {
    "execution": {
     "iopub.execute_input": "2024-01-16T19:27:58.840776Z",
     "iopub.status.busy": "2024-01-16T19:27:58.839866Z",
     "iopub.status.idle": "2024-01-16T19:27:58.857934Z",
     "shell.execute_reply": "2024-01-16T19:27:58.851396Z",
     "shell.execute_reply.started": "2024-01-16T19:27:58.840747Z"
    },
    "tags": []
   },
   "outputs": [],
   "source": [
    "def display_image(path):\n",
    "    arr = np.asarray(bytearray(path.read()), dtype=np.uint8)\n",
    "    image = cv2.imdecode(arr, -1)\n",
    "    color = cv2.cvtColor(image, cv2.COLOR_BGR2RGB)\n",
    "    plt.imshow(color)\n",
    "    plt.title('Image')\n",
    "    plt.show()"
   ]
  },
  {
   "cell_type": "code",
   "execution_count": 5,
   "id": "59b8f0c2-c802-4cff-84f6-7ce9a2a92b1a",
   "metadata": {
    "execution": {
     "iopub.execute_input": "2024-01-16T19:27:58.861458Z",
     "iopub.status.busy": "2024-01-16T19:27:58.860945Z",
     "iopub.status.idle": "2024-01-16T19:27:58.867476Z",
     "shell.execute_reply": "2024-01-16T19:27:58.867032Z",
     "shell.execute_reply.started": "2024-01-16T19:27:58.861429Z"
    },
    "tags": []
   },
   "outputs": [],
   "source": [
    "def make_art(iterations, path):\n",
    "    # Read in image\n",
    "    image = cv2.imread(path)\n",
    "    render = image.copy()\n",
    "    # Instantiate first Quad\n",
    "    canvas = Quad(image, render, 0, image.shape[0], 0, image.shape[1])\n",
    "    \n",
    "    for i in range(iterations):\n",
    "        canvas.split()\n",
    "        \n",
    "        # Rendering\n",
    "        clear_output(wait = True)\n",
    "        color = cv2.cvtColor(render, cv2.COLOR_BGR2RGB)\n",
    "        plt.imshow(color)\n",
    "        plt.title('Rendered Image')\n",
    "        plt.show()\n",
    "        #plt.pause(0.1)"
   ]
  },
  {
   "cell_type": "code",
   "execution_count": 6,
   "id": "80fd0345-fdcf-4dbe-9d13-21594b35fc63",
   "metadata": {
    "execution": {
     "iopub.execute_input": "2024-01-16T19:27:58.868638Z",
     "iopub.status.busy": "2024-01-16T19:27:58.868466Z",
     "iopub.status.idle": "2024-01-16T19:27:58.978243Z",
     "shell.execute_reply": "2024-01-16T19:27:58.977476Z",
     "shell.execute_reply.started": "2024-01-16T19:27:58.868625Z"
    },
    "tags": []
   },
   "outputs": [
    {
     "ename": "TypeError",
     "evalue": "Can't convert object to 'str' for 'filename'",
     "output_type": "error",
     "traceback": [
      "\u001b[0;31m---------------------------------------------------------------------------\u001b[0m",
      "\u001b[0;31mTypeError\u001b[0m                                 Traceback (most recent call last)",
      "Cell \u001b[0;32mIn[6], line 1\u001b[0m\n\u001b[0;32m----> 1\u001b[0m \u001b[43mmake_art\u001b[49m\u001b[43m(\u001b[49m\u001b[38;5;241;43m10000\u001b[39;49m\u001b[43m,\u001b[49m\u001b[43m \u001b[49m\u001b[43mpath\u001b[49m\u001b[43m)\u001b[49m\n",
      "Cell \u001b[0;32mIn[5], line 3\u001b[0m, in \u001b[0;36mmake_art\u001b[0;34m(iterations, path)\u001b[0m\n\u001b[1;32m      1\u001b[0m \u001b[38;5;28;01mdef\u001b[39;00m \u001b[38;5;21mmake_art\u001b[39m(iterations, path):\n\u001b[1;32m      2\u001b[0m     \u001b[38;5;66;03m# Read in image\u001b[39;00m\n\u001b[0;32m----> 3\u001b[0m     image \u001b[38;5;241m=\u001b[39m \u001b[43mcv2\u001b[49m\u001b[38;5;241;43m.\u001b[39;49m\u001b[43mimread\u001b[49m\u001b[43m(\u001b[49m\u001b[43mpath\u001b[49m\u001b[43m)\u001b[49m\n\u001b[1;32m      4\u001b[0m     render \u001b[38;5;241m=\u001b[39m image\u001b[38;5;241m.\u001b[39mcopy()\n\u001b[1;32m      5\u001b[0m     \u001b[38;5;66;03m# Instantiate first Quad\u001b[39;00m\n",
      "\u001b[0;31mTypeError\u001b[0m: Can't convert object to 'str' for 'filename'"
     ]
    }
   ],
   "source": [
    "make_art(10000, path)"
   ]
  },
  {
   "cell_type": "code",
   "execution_count": null,
   "id": "a395f0f7-2a34-4c15-bf54-25d3fe6f00ba",
   "metadata": {},
   "outputs": [],
   "source": []
  }
 ],
 "metadata": {
  "kernelspec": {
   "display_name": "Python 3 (ipykernel)",
   "language": "python",
   "name": "python3"
  },
  "language_info": {
   "codemirror_mode": {
    "name": "ipython",
    "version": 3
   },
   "file_extension": ".py",
   "mimetype": "text/x-python",
   "name": "python",
   "nbconvert_exporter": "python",
   "pygments_lexer": "ipython3",
   "version": "3.9.15"
  }
 },
 "nbformat": 4,
 "nbformat_minor": 5
}
